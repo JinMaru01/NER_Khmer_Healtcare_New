{
 "cells": [
  {
   "cell_type": "code",
   "execution_count": 175,
   "metadata": {},
   "outputs": [],
   "source": [
    "import pandas as pd\n",
    "import matplotlib.pyplot as plt\n",
    "from khmernltk import word_tokenize\n",
    "from sklearn.metrics import classification_report\n",
    "from sklearn.model_selection import train_test_split"
   ]
  },
  {
   "cell_type": "code",
   "execution_count": 176,
   "metadata": {},
   "outputs": [],
   "source": [
    "df = pd.read_excel('dataset.xlsx')"
   ]
  },
  {
   "cell_type": "code",
   "execution_count": 177,
   "metadata": {},
   "outputs": [
    {
     "data": {
      "text/html": [
       "<div>\n",
       "<style scoped>\n",
       "    .dataframe tbody tr th:only-of-type {\n",
       "        vertical-align: middle;\n",
       "    }\n",
       "\n",
       "    .dataframe tbody tr th {\n",
       "        vertical-align: top;\n",
       "    }\n",
       "\n",
       "    .dataframe thead th {\n",
       "        text-align: right;\n",
       "    }\n",
       "</style>\n",
       "<table border=\"1\" class=\"dataframe\">\n",
       "  <thead>\n",
       "    <tr style=\"text-align: right;\">\n",
       "      <th></th>\n",
       "      <th>entity</th>\n",
       "      <th>label</th>\n",
       "    </tr>\n",
       "  </thead>\n",
       "  <tbody>\n",
       "    <tr>\n",
       "      <th>0</th>\n",
       "      <td>អាហ្រ្វិកខាងត្បូង</td>\n",
       "      <td>LOC</td>\n",
       "    </tr>\n",
       "    <tr>\n",
       "      <th>1</th>\n",
       "      <td>ប្រទេសអូស្រ្តាលី</td>\n",
       "      <td>LOC</td>\n",
       "    </tr>\n",
       "    <tr>\n",
       "      <th>2</th>\n",
       "      <td>លោកអំសំអាត</td>\n",
       "      <td>PER</td>\n",
       "    </tr>\n",
       "    <tr>\n",
       "      <th>3</th>\n",
       "      <td>ជំងឺគ្រោះថ្នាក់សរសៃឈាមអាទែរ</td>\n",
       "      <td>DIS</td>\n",
       "    </tr>\n",
       "    <tr>\n",
       "      <th>4</th>\n",
       "      <td>អ៊ីស្រាអែល</td>\n",
       "      <td>LOC</td>\n",
       "    </tr>\n",
       "  </tbody>\n",
       "</table>\n",
       "</div>"
      ],
      "text/plain": [
       "                        entity label\n",
       "0            អាហ្រ្វិកខាងត្បូង   LOC\n",
       "1             ប្រទេសអូស្រ្តាលី   LOC\n",
       "2                   លោកអំសំអាត   PER\n",
       "3  ជំងឺគ្រោះថ្នាក់សរសៃឈាមអាទែរ   DIS\n",
       "4                   អ៊ីស្រាអែល   LOC"
      ]
     },
     "execution_count": 177,
     "metadata": {},
     "output_type": "execute_result"
    }
   ],
   "source": [
    "df.head()"
   ]
  },
  {
   "cell_type": "code",
   "execution_count": 178,
   "metadata": {},
   "outputs": [
    {
     "data": {
      "image/png": "[encoded data removed]",
      "text/plain": [
       "<Figure size 640x480 with 1 Axes>"
      ]
     },
     "metadata": {},
     "output_type": "display_data"
    }
   ],
   "source": [
    "label_counts = df['label'].value_counts()\n",
    "\n",
    "plt.bar(label_counts.index, label_counts.values)\n",
    "plt.xlabel('Label')\n",
    "plt.ylabel('Number of Occurrences')\n",
    "plt.title('Counts of Each Label')\n",
    "\n",
    "# Add total number on each label\n",
    "for i, v in enumerate(label_counts.values):\n",
    "    plt.text(i, v, str(v), ha='center', va='bottom')\n",
    "\n",
    "plt.show()"
   ]
  },
  {
   "cell_type": "code",
   "execution_count": 179,
   "metadata": {},
   "outputs": [],
   "source": [
    "df['entity_token'] = df['entity'].apply(lambda x: word_tokenize(x))"
   ]
  },
  {
   "cell_type": "code",
   "execution_count": 180,
   "metadata": {},
   "outputs": [],
   "source": [
    "df['prefix'] = df['entity_token'].apply(lambda x: x[0])\n",
    "df['suffix'] = df['entity_token'].apply(lambda x: x[-1])"
   ]
  },
  {
   "cell_type": "code",
   "execution_count": 181,
   "metadata": {},
   "outputs": [],
   "source": [
    "# train_df, test_df = train_test_split(df, test_size=0.2, random_state=42)"
   ]
  },
  {
   "cell_type": "code",
   "execution_count": 182,
   "metadata": {},
   "outputs": [],
   "source": [
    "train_df = pd.read_excel('train_dataset.xlsx')\n",
    "# test_df = pd.read_excel('test_dataset.xlsx')"
   ]
  },
  {
   "cell_type": "code",
   "execution_count": 183,
   "metadata": {},
   "outputs": [],
   "source": [
    "test_df = pd.read_excel('testing_set3.xlsx')\n",
    "test_df['entity_token'] = test_df['entity'].apply(lambda x: word_tokenize(x))"
   ]
  },
  {
   "cell_type": "code",
   "execution_count": 184,
   "metadata": {},
   "outputs": [],
   "source": [
    "test_df['prefix'] = test_df['entity_token'].apply(lambda x: x[0])\n",
    "test_df['suffix'] = test_df['entity_token'].apply(lambda x: x[-1])"
   ]
  },
  {
   "cell_type": "code",
   "execution_count": 185,
   "metadata": {},
   "outputs": [
    {
     "data": {
      "text/plain": [
       "(176, 5)"
      ]
     },
     "execution_count": 185,
     "metadata": {},
     "output_type": "execute_result"
    }
   ],
   "source": [
    "test_df.shape"
   ]
  },
  {
   "cell_type": "code",
   "execution_count": 186,
   "metadata": {},
   "outputs": [],
   "source": [
    "# train_df.to_excel('train_dataset.xlsx', index=False)\n",
    "# test_df.to_excel('test_dataset.xlsx', index=False)"
   ]
  },
  {
   "cell_type": "code",
   "execution_count": 187,
   "metadata": {},
   "outputs": [
    {
     "name": "stdout",
     "output_type": "stream",
     "text": [
      "Training set size: 702\n",
      "Testing set size: 176\n"
     ]
    }
   ],
   "source": [
    "# Check the sizes of the split datasets\n",
    "print(f\"Training set size: {len(train_df)}\")\n",
    "print(f\"Testing set size: {len(test_df)}\")"
   ]
  },
  {
   "cell_type": "code",
   "execution_count": 188,
   "metadata": {},
   "outputs": [],
   "source": [
    "# Group prefixes by label on the training set\n",
    "prefixes_by_label_train = df.groupby('label')['prefix'].apply(list)\n",
    "suffixes_by_label_train = df.groupby('label')['prefix'].apply(list)\n",
    "\n",
    "# prefixes_by_label_train = train_df.groupby('label')['prefix'].apply(list)\n",
    "# suffixes_by_label_train = train_df.groupby('label')['suffix'].apply(list)"
   ]
  },
  {
   "cell_type": "code",
   "execution_count": 189,
   "metadata": {},
   "outputs": [],
   "source": [
    "# Extract each list\n",
    "date_prefixes_train = list(set(prefixes_by_label_train.get(\"DATE\", [])))\n",
    "dis_prefixes_train = list(set(prefixes_by_label_train.get(\"DIS\", [])))\n",
    "loc_prefixes_train = list(set(prefixes_by_label_train.get(\"LOC\", [])))\n",
    "org_prefixes_train = list(set(prefixes_by_label_train.get(\"ORG\", [])))\n",
    "per_prefixes_train = list(set(prefixes_by_label_train.get(\"PER\", [])))\n",
    "\n",
    "date_suffixes_train = list(set(suffixes_by_label_train.get(\"DATE\", [])))\n",
    "dis_suffixes_train = list(set(suffixes_by_label_train.get(\"DIS\", [])))\n",
    "loc_suffixes_train = list(set(suffixes_by_label_train.get(\"LOC\", [])))\n",
    "org_suffixes_train = list(set(suffixes_by_label_train.get(\"ORG\", [])))\n",
    "per_suffixes_train = list(set(suffixes_by_label_train.get(\"PER\", [])))"
   ]
  },
  {
   "cell_type": "code",
   "execution_count": 190,
   "metadata": {},
   "outputs": [],
   "source": [
    "def classify_entity_by_prefix_suffix(entity, prefix, suffix):\n",
    "    # Rule for Location\n",
    "    if any(entity.startswith(loc_prefix) for loc_prefix in loc_prefixes_train) or any(entity.endswith(loc_suffix) for loc_suffix in loc_suffixes_train):\n",
    "        return \"LOC\"\n",
    "    \n",
    "    # Rule for Person\n",
    "    if any(entity.startswith(per_prefix) for per_prefix in per_prefixes_train) or any(entity.endswith(per_suffix) for per_suffix in per_suffixes_train):\n",
    "        return \"PER\"\n",
    "    \n",
    "    # Rule for Disease\n",
    "    if any(entity.startswith(dis_prefix) for dis_prefix in dis_prefixes_train) or any(entity.endswith(dis_suffix) for dis_suffix in dis_suffixes_train):\n",
    "        return \"DIS\"\n",
    "    \n",
    "    # Rule for Organization\n",
    "    if any(entity.startswith(org_prefix) for org_prefix in org_prefixes_train) or any(entity.endswith(org_suffix) for org_suffix in org_suffixes_train):\n",
    "        return \"ORG\"\n",
    "    \n",
    "    # Rule for Date\n",
    "    if any(entity.startswith(date_prefix) for date_prefix in date_prefixes_train) or any(entity.endswith(date_suffix) for date_suffix in date_suffixes_train):\n",
    "        return \"DATE\"\n",
    "    \n",
    "    # Default: No entity detected\n",
    "    return \"O\""
   ]
  },
  {
   "cell_type": "code",
   "execution_count": 191,
   "metadata": {},
   "outputs": [],
   "source": [
    "test_df['predicted_label'] = test_df.apply(lambda row: classify_entity_by_prefix_suffix(row['entity'], row['prefix'], row['suffix']), axis=1)\n",
    "\n",
    "# Now evaluate the performance on the test set\n",
    "true_labels_test = test_df['label']\n",
    "predicted_labels_test = test_df['predicted_label']"
   ]
  },
  {
   "cell_type": "code",
   "execution_count": 192,
   "metadata": {},
   "outputs": [
    {
     "data": {
      "text/html": [
       "<div>\n",
       "<style scoped>\n",
       "    .dataframe tbody tr th:only-of-type {\n",
       "        vertical-align: middle;\n",
       "    }\n",
       "\n",
       "    .dataframe tbody tr th {\n",
       "        vertical-align: top;\n",
       "    }\n",
       "\n",
       "    .dataframe thead th {\n",
       "        text-align: right;\n",
       "    }\n",
       "</style>\n",
       "<table border=\"1\" class=\"dataframe\">\n",
       "  <thead>\n",
       "    <tr style=\"text-align: right;\">\n",
       "      <th></th>\n",
       "      <th>entity</th>\n",
       "      <th>label</th>\n",
       "      <th>entity_token</th>\n",
       "      <th>prefix</th>\n",
       "      <th>suffix</th>\n",
       "      <th>predicted_label</th>\n",
       "    </tr>\n",
       "  </thead>\n",
       "  <tbody>\n",
       "    <tr>\n",
       "      <th>0</th>\n",
       "      <td>លោក​ឈាងរ៉ា</td>\n",
       "      <td>PER</td>\n",
       "      <td>[លោក, ឈាង, រ៉ា]</td>\n",
       "      <td>លោក</td>\n",
       "      <td>រ៉ា</td>\n",
       "      <td>PER</td>\n",
       "    </tr>\n",
       "    <tr>\n",
       "      <th>1</th>\n",
       "      <td>លោក​លីសុវណ្ណ</td>\n",
       "      <td>PER</td>\n",
       "      <td>[លោក, លី, សុវណ្ណ]</td>\n",
       "      <td>លោក</td>\n",
       "      <td>សុវណ្ណ</td>\n",
       "      <td>PER</td>\n",
       "    </tr>\n",
       "    <tr>\n",
       "      <th>2</th>\n",
       "      <td>អ្នកស្រី​គិន​ណារិន</td>\n",
       "      <td>PER</td>\n",
       "      <td>[អ្នកស្រី, គិន, ណារិន]</td>\n",
       "      <td>អ្នកស្រី</td>\n",
       "      <td>ណារិន</td>\n",
       "      <td>PER</td>\n",
       "    </tr>\n",
       "    <tr>\n",
       "      <th>3</th>\n",
       "      <td>កុមារីប៊ៀនណារ៉ុង</td>\n",
       "      <td>PER</td>\n",
       "      <td>[កុមារី, ប៊ៀន, ណារ៉ុង]</td>\n",
       "      <td>កុមារី</td>\n",
       "      <td>ណារ៉ុង</td>\n",
       "      <td>O</td>\n",
       "    </tr>\n",
       "    <tr>\n",
       "      <th>4</th>\n",
       "      <td>លោកប៊ៀនវន</td>\n",
       "      <td>PER</td>\n",
       "      <td>[លោក, ប៊ៀន, វន]</td>\n",
       "      <td>លោក</td>\n",
       "      <td>វន</td>\n",
       "      <td>PER</td>\n",
       "    </tr>\n",
       "    <tr>\n",
       "      <th>...</th>\n",
       "      <td>...</td>\n",
       "      <td>...</td>\n",
       "      <td>...</td>\n",
       "      <td>...</td>\n",
       "      <td>...</td>\n",
       "      <td>...</td>\n",
       "    </tr>\n",
       "    <tr>\n",
       "      <th>171</th>\n",
       "      <td>សាកលវិទ្យាល័យភូមិន្ទនីតិសាស្រ្ដនិងវិទ្យាសាស្រ្...</td>\n",
       "      <td>ORG</td>\n",
       "      <td>[សាកលវិទ្យាល័យ, ភូមិន្ទ, នីតិសាស្រ្ដ, និង, វិទ...</td>\n",
       "      <td>សាកលវិទ្យាល័យ</td>\n",
       "      <td>សេដ្ឋកិច្ច</td>\n",
       "      <td>LOC</td>\n",
       "    </tr>\n",
       "    <tr>\n",
       "      <th>172</th>\n",
       "      <td>ស្រុកសាមគ្គីមានជ័យ</td>\n",
       "      <td>LOC</td>\n",
       "      <td>[ស្រុក, សាមគ្គី, មាន, ជ័យ]</td>\n",
       "      <td>ស្រុក</td>\n",
       "      <td>ជ័យ</td>\n",
       "      <td>LOC</td>\n",
       "    </tr>\n",
       "    <tr>\n",
       "      <th>173</th>\n",
       "      <td>ស្រុកកំពង់ត្រឡាច</td>\n",
       "      <td>LOC</td>\n",
       "      <td>[ស្រុក, កំពង់ត្រឡាច]</td>\n",
       "      <td>ស្រុក</td>\n",
       "      <td>កំពង់ត្រឡាច</td>\n",
       "      <td>LOC</td>\n",
       "    </tr>\n",
       "    <tr>\n",
       "      <th>174</th>\n",
       "      <td>ស្រុកទឹកផុស</td>\n",
       "      <td>LOC</td>\n",
       "      <td>[ស្រុក, ទឹក, ផុស]</td>\n",
       "      <td>ស្រុក</td>\n",
       "      <td>ផុស</td>\n",
       "      <td>LOC</td>\n",
       "    </tr>\n",
       "    <tr>\n",
       "      <th>175</th>\n",
       "      <td>សាលាបឋមសិក្សាមិត្តភាព</td>\n",
       "      <td>ORG</td>\n",
       "      <td>[សាលា, បឋមសិក្សា, មិត្តភាព]</td>\n",
       "      <td>សាលា</td>\n",
       "      <td>មិត្តភាព</td>\n",
       "      <td>ORG</td>\n",
       "    </tr>\n",
       "  </tbody>\n",
       "</table>\n",
       "<p>176 rows × 6 columns</p>\n",
       "</div>"
      ],
      "text/plain": [
       "                                                entity label  \\\n",
       "0                                           លោក​ឈាងរ៉ា   PER   \n",
       "1                                         លោក​លីសុវណ្ណ   PER   \n",
       "2                                   អ្នកស្រី​គិន​ណារិន   PER   \n",
       "3                                     កុមារីប៊ៀនណារ៉ុង   PER   \n",
       "4                                            លោកប៊ៀនវន   PER   \n",
       "..                                                 ...   ...   \n",
       "171  សាកលវិទ្យាល័យភូមិន្ទនីតិសាស្រ្ដនិងវិទ្យាសាស្រ្...   ORG   \n",
       "172                                 ស្រុកសាមគ្គីមានជ័យ   LOC   \n",
       "173                                   ស្រុកកំពង់ត្រឡាច   LOC   \n",
       "174                                        ស្រុកទឹកផុស   LOC   \n",
       "175                              សាលាបឋមសិក្សាមិត្តភាព   ORG   \n",
       "\n",
       "                                          entity_token         prefix  \\\n",
       "0                                      [លោក, ឈាង, រ៉ា]            លោក   \n",
       "1                                    [លោក, លី, សុវណ្ណ]            លោក   \n",
       "2                               [អ្នកស្រី, គិន, ណារិន]       អ្នកស្រី   \n",
       "3                               [កុមារី, ប៊ៀន, ណារ៉ុង]         កុមារី   \n",
       "4                                      [លោក, ប៊ៀន, វន]            លោក   \n",
       "..                                                 ...            ...   \n",
       "171  [សាកលវិទ្យាល័យ, ភូមិន្ទ, នីតិសាស្រ្ដ, និង, វិទ...  សាកលវិទ្យាល័យ   \n",
       "172                         [ស្រុក, សាមគ្គី, មាន, ជ័យ]          ស្រុក   \n",
       "173                               [ស្រុក, កំពង់ត្រឡាច]          ស្រុក   \n",
       "174                                  [ស្រុក, ទឹក, ផុស]          ស្រុក   \n",
       "175                        [សាលា, បឋមសិក្សា, មិត្តភាព]           សាលា   \n",
       "\n",
       "          suffix predicted_label  \n",
       "0            រ៉ា             PER  \n",
       "1         សុវណ្ណ             PER  \n",
       "2          ណារិន             PER  \n",
       "3         ណារ៉ុង               O  \n",
       "4             វន             PER  \n",
       "..           ...             ...  \n",
       "171   សេដ្ឋកិច្ច             LOC  \n",
       "172          ជ័យ             LOC  \n",
       "173  កំពង់ត្រឡាច             LOC  \n",
       "174          ផុស             LOC  \n",
       "175     មិត្តភាព             ORG  \n",
       "\n",
       "[176 rows x 6 columns]"
      ]
     },
     "execution_count": 192,
     "metadata": {},
     "output_type": "execute_result"
    }
   ],
   "source": [
    "test_df"
   ]
  },
  {
   "cell_type": "code",
   "execution_count": 193,
   "metadata": {},
   "outputs": [
    {
     "name": "stdout",
     "output_type": "stream",
     "text": [
      "              precision    recall  f1-score   support\n",
      "\n",
      "        DATE       1.00      0.94      0.97        34\n",
      "         DIS       1.00      0.79      0.88        24\n",
      "         LOC       0.68      0.86      0.76        44\n",
      "           O       0.00      0.00      0.00         0\n",
      "         ORG       1.00      0.50      0.67        40\n",
      "         PER       0.96      0.76      0.85        34\n",
      "\n",
      "    accuracy                           0.77       176\n",
      "   macro avg       0.77      0.64      0.69       176\n",
      "weighted avg       0.91      0.77      0.81       176\n",
      "\n"
     ]
    },
    {
     "name": "stderr",
     "output_type": "stream",
     "text": [
      "C:\\Users\\Jin-Ohara\\AppData\\Local\\Packages\\PythonSoftwareFoundation.Python.3.11_qbz5n2kfra8p0\\LocalCache\\local-packages\\Python311\\site-packages\\sklearn\\metrics\\_classification.py:1471: UndefinedMetricWarning: Recall and F-score are ill-defined and being set to 0.0 in labels with no true samples. Use `zero_division` parameter to control this behavior.\n",
      "  _warn_prf(average, modifier, msg_start, len(result))\n",
      "C:\\Users\\Jin-Ohara\\AppData\\Local\\Packages\\PythonSoftwareFoundation.Python.3.11_qbz5n2kfra8p0\\LocalCache\\local-packages\\Python311\\site-packages\\sklearn\\metrics\\_classification.py:1471: UndefinedMetricWarning: Recall and F-score are ill-defined and being set to 0.0 in labels with no true samples. Use `zero_division` parameter to control this behavior.\n",
      "  _warn_prf(average, modifier, msg_start, len(result))\n",
      "C:\\Users\\Jin-Ohara\\AppData\\Local\\Packages\\PythonSoftwareFoundation.Python.3.11_qbz5n2kfra8p0\\LocalCache\\local-packages\\Python311\\site-packages\\sklearn\\metrics\\_classification.py:1471: UndefinedMetricWarning: Recall and F-score are ill-defined and being set to 0.0 in labels with no true samples. Use `zero_division` parameter to control this behavior.\n",
      "  _warn_prf(average, modifier, msg_start, len(result))\n"
     ]
    }
   ],
   "source": [
    "print(classification_report(true_labels_test, predicted_labels_test))"
   ]
  }
 ],
 "metadata": {
  "kernelspec": {
   "display_name": "Python 3",
   "language": "python",
   "name": "python3"
  },
  "language_info": {
   "codemirror_mode": {
    "name": "ipython",
    "version": 3
   },
   "file_extension": ".py",
   "mimetype": "text/x-python",
   "name": "python",
   "nbconvert_exporter": "python",
   "pygments_lexer": "ipython3",
   "version": "3.11.9"
  }
 },
 "nbformat": 4,
 "nbformat_minor": 2
}
